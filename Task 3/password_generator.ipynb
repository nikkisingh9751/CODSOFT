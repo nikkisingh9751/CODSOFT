{
 "cells": [
  {
   "cell_type": "code",
   "execution_count": 17,
   "id": "eb94b32f-c2cf-4df0-a353-f39bb0552666",
   "metadata": {},
   "outputs": [
    {
     "name": "stdin",
     "output_type": "stream",
     "text": [
      "Enter password length \n",
      " 15\n"
     ]
    },
    {
     "name": "stdout",
     "output_type": "stream",
     "text": [
      "Your Password is:\n",
      "siSYy32bo71Pfz9\n"
     ]
    }
   ],
   "source": [
    "#wap to create a password generator\n",
    "import string \n",
    "import random\n",
    "a1=string.ascii_lowercase\n",
    "a2=string.ascii_uppercase\n",
    "a3=string.digits\n",
    "\n",
    "#taking password length frm user\n",
    "length=int(input(\"Enter password length \\n\"))\n",
    "\n",
    "#creating an empty list \n",
    "a=[]\n",
    "a.extend(list(a1))\n",
    "a.extend(list(a2))\n",
    "a.extend(list(a3))\n",
    "\n",
    "#password\n",
    "print(\"Your Password is:\")\n",
    "print(\"\".join(random.sample(a,length)))"
   ]
  },
  {
   "cell_type": "code",
   "execution_count": null,
   "id": "5ae79f8e-01c3-4d24-abc3-d3441344ac10",
   "metadata": {},
   "outputs": [],
   "source": []
  },
  {
   "cell_type": "code",
   "execution_count": null,
   "id": "9a438468-0c92-4d17-8a01-f22680f78771",
   "metadata": {},
   "outputs": [],
   "source": []
  }
 ],
 "metadata": {
  "kernelspec": {
   "display_name": "Python 3 (ipykernel)",
   "language": "python",
   "name": "python3"
  },
  "language_info": {
   "codemirror_mode": {
    "name": "ipython",
    "version": 3
   },
   "file_extension": ".py",
   "mimetype": "text/x-python",
   "name": "python",
   "nbconvert_exporter": "python",
   "pygments_lexer": "ipython3",
   "version": "3.11.7"
  }
 },
 "nbformat": 4,
 "nbformat_minor": 5
}
